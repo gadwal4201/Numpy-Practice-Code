{
 "cells": [
  {
   "cell_type": "code",
   "execution_count": 72,
   "id": "99d00725-2823-4376-9ecb-cdc14ce91d72",
   "metadata": {},
   "outputs": [],
   "source": [
    "import numpy as np"
   ]
  },
  {
   "cell_type": "code",
   "execution_count": 73,
   "id": "796e08b9-652e-4140-9533-35c100fc0f0b",
   "metadata": {},
   "outputs": [
    {
     "data": {
      "text/plain": [
       "array([190, 387, 101, 284, 383, 332,  10, 110, 440,  78, 383, 273, 348,\n",
       "       224,  36,  76, 103, 372, 147, 197,   1, 104, 255, 364, 274, 223,\n",
       "       211, 389,   6, 265, 324, 310, 231,  60, 254, 303, 374, 319,  67,\n",
       "       413, 134, 297,  24, 212, 176, 416, 360,  55, 115, 166, 199, 426,\n",
       "       287, 127, 416, 240, 116, 287,   8, 149, 274, 168, 107, 439, 379,\n",
       "       105, 250, 384, 111, 366, 330,  55,  76, 203,  68, 327, 403, 351,\n",
       "       364, 104,  26, 300, 155,  78, 162, 197, 119,   6, 442, 311,  35,\n",
       "       324, 247, 429,  58, 392,  10, 417, 163,  16, 277, 439, 315,   7,\n",
       "       277, 267, 447, 114, 354, 385,  70,  86, 126, 178, 300,  97, 145,\n",
       "       424,  34, 231, 180, 255, 303, 284, 398, 330,  78, 118, 432,  88,\n",
       "       308, 111, 166, 193,  63, 230, 127, 239, 242, 196,  42, 270,  50,\n",
       "        97, 393, 275, 299, 215, 328, 319, 190, 340,  75,  80, 273, 176,\n",
       "       143, 120, 310, 148, 114,  43, 362, 129, 412,  97, 378,  34, 449,\n",
       "        98, 434, 317, 163, 297, 166, 263,  22, 166, 196, 356, 374,  25,\n",
       "       140,  93, 228, 418,  35, 112, 122,  81, 223, 185, 119,  96,  59,\n",
       "       186, 351, 360, 357, 202, 401, 310, 232,  94, 272, 339,  31, 402,\n",
       "       232, 328, 116,  37, 291, 387, 325, 124, 394,  61, 441,  51,   9,\n",
       "        94, 354, 198, 359,  21, 291, 310, 165, 397, 190, 114, 345, 291,\n",
       "       320,  34, 193,  99, 357, 137, 442, 359, 364,  70, 278, 233, 185,\n",
       "       407,  51, 380,  17, 403, 427, 134, 325, 235, 362, 250, 141, 183,\n",
       "       159, 219, 447,  98,  30, 224, 281, 271, 238, 142, 329, 435, 260,\n",
       "       242, 158, 395, 389,  83,  27, 353, 421, 219,  87, 444,   8, 262,\n",
       "       442, 383, 212, 253,  66,  72, 339, 127, 135, 251, 359, 445, 171,\n",
       "       216, 187, 296, 336, 310, 181, 171, 346, 388, 262, 122, 383, 385,\n",
       "       396, 328, 440, 358, 136, 389,  88, 417, 332, 115, 414,   5, 334,\n",
       "       356,  50, 188, 189, 229, 322, 110,  71, 231, 198,  13,  42, 155,\n",
       "       360, 190, 391, 132, 262, 316,  88, 170, 371, 300,  70, 327, 207,\n",
       "       217, 268, 151, 249, 358, 184, 105,  60,  64, 322, 313,  10, 263,\n",
       "        36, 352,  64, 380, 329, 443, 259,  34, 327, 282, 435, 284, 318,\n",
       "       127, 240, 279,  32, 411,  93,  34, 381,   5,  38, 412, 377, 330,\n",
       "       209, 132, 174, 224,  30, 151,  31, 130, 275, 158,  92, 317, 105,\n",
       "        17, 231, 395, 244, 123, 323, 229, 175, 286, 178, 165, 307,  99,\n",
       "       117, 249, 116, 340, 127, 439, 380,  57, 101, 362, 233, 167, 363,\n",
       "       138,  82, 162, 430,  46, 136, 136, 173, 194, 186, 314, 265,  62,\n",
       "        67, 441, 414, 237,   8, 328, 340, 192, 209, 226, 397, 214, 208,\n",
       "       149, 436, 387, 280,  59, 404, 135,  69, 398, 105, 409, 296, 359,\n",
       "       386,  20, 284, 349, 287,  56, 160,  95, 373,  79,  76, 236, 370,\n",
       "       378, 234,  80,  60,  73,   2, 409,  81, 260, 200, 171, 409,  81,\n",
       "       135, 110, 144,   4, 328, 183], dtype=int32)"
      ]
     },
     "execution_count": 73,
     "metadata": {},
     "output_type": "execute_result"
    }
   ],
   "source": [
    "arr = np.random.randint(1,450,500)\n",
    "arr"
   ]
  },
  {
   "cell_type": "code",
   "execution_count": 74,
   "id": "5c3e68e4-275f-44d0-80e1-abbb0dc9bfa5",
   "metadata": {},
   "outputs": [
    {
     "name": "stdout",
     "output_type": "stream",
     "text": [
      "10\n",
      "78\n",
      "36\n",
      "76\n",
      "1\n",
      "6\n",
      "60\n",
      "67\n",
      "24\n",
      "55\n",
      "8\n",
      "55\n",
      "76\n",
      "68\n",
      "26\n",
      "78\n",
      "6\n",
      "35\n",
      "58\n",
      "10\n",
      "16\n",
      "7\n",
      "70\n",
      "86\n",
      "97\n",
      "34\n",
      "78\n",
      "88\n",
      "63\n",
      "42\n",
      "50\n",
      "97\n",
      "75\n",
      "80\n",
      "43\n",
      "97\n",
      "34\n",
      "98\n",
      "22\n",
      "25\n",
      "93\n",
      "35\n",
      "81\n",
      "96\n",
      "59\n",
      "94\n",
      "31\n",
      "37\n",
      "61\n",
      "51\n",
      "9\n",
      "94\n",
      "21\n",
      "34\n",
      "99\n",
      "70\n",
      "51\n",
      "17\n",
      "98\n",
      "30\n",
      "83\n",
      "27\n",
      "87\n",
      "8\n",
      "66\n",
      "72\n",
      "88\n",
      "5\n",
      "50\n",
      "71\n",
      "13\n",
      "42\n",
      "88\n",
      "70\n",
      "60\n",
      "64\n",
      "10\n",
      "36\n",
      "64\n",
      "34\n",
      "32\n",
      "93\n",
      "34\n",
      "5\n",
      "38\n",
      "30\n",
      "31\n",
      "92\n",
      "17\n",
      "99\n",
      "57\n",
      "82\n",
      "46\n",
      "62\n",
      "67\n",
      "8\n",
      "59\n",
      "69\n",
      "20\n",
      "56\n",
      "95\n",
      "79\n",
      "76\n",
      "80\n",
      "60\n",
      "73\n",
      "2\n",
      "81\n",
      "81\n",
      "4\n"
     ]
    }
   ],
   "source": [
    "count = 0\n",
    "for i in arr:\n",
    "    if i<100:\n",
    "        count += 1\n",
    "        print(i)"
   ]
  },
  {
   "cell_type": "code",
   "execution_count": 75,
   "id": "944ffda3-ba47-4085-a37a-f23384a993ed",
   "metadata": {},
   "outputs": [
    {
     "data": {
      "text/plain": [
       "110"
      ]
     },
     "execution_count": 75,
     "metadata": {},
     "output_type": "execute_result"
    }
   ],
   "source": [
    "len(arr[arr<100])"
   ]
  },
  {
   "cell_type": "code",
   "execution_count": 76,
   "id": "fb8de1b2-29c6-40e4-9d47-813385aded7a",
   "metadata": {},
   "outputs": [],
   "source": [
    "# 2D Array\n"
   ]
  },
  {
   "cell_type": "code",
   "execution_count": 77,
   "id": "0b93b494-88c7-4e22-ae48-4da30929f422",
   "metadata": {},
   "outputs": [
    {
     "data": {
      "text/plain": [
       "[[1, 2, 3], [4, 5, 6], [7, 8, 9]]"
      ]
     },
     "execution_count": 77,
     "metadata": {},
     "output_type": "execute_result"
    }
   ],
   "source": [
    "ls = [[1,2,3],\n",
    "     [4,5,6],\n",
    "     [7,8,9]]\n",
    "ls"
   ]
  },
  {
   "cell_type": "code",
   "execution_count": 78,
   "id": "7b5599f0-9f77-48e2-a233-d78f70909962",
   "metadata": {},
   "outputs": [
    {
     "data": {
      "text/plain": [
       "list"
      ]
     },
     "execution_count": 78,
     "metadata": {},
     "output_type": "execute_result"
    }
   ],
   "source": [
    "type(ls)"
   ]
  },
  {
   "cell_type": "raw",
   "id": "1f039d33-a287-447b-96c4-a3ed4ef1369a",
   "metadata": {},
   "source": []
  },
  {
   "cell_type": "code",
   "execution_count": 79,
   "id": "9a5f1298-b6fd-46ef-9c1c-3d1388f6e88e",
   "metadata": {},
   "outputs": [
    {
     "data": {
      "text/plain": [
       "array([[1, 2, 3],\n",
       "       [4, 5, 6],\n",
       "       [7, 8, 9]])"
      ]
     },
     "execution_count": 79,
     "metadata": {},
     "output_type": "execute_result"
    }
   ],
   "source": [
    "arr2 = np.array(ls)\n",
    "arr2"
   ]
  },
  {
   "cell_type": "code",
   "execution_count": 80,
   "id": "bbb0db65-4d20-4598-9fab-2fa3ffea70c3",
   "metadata": {},
   "outputs": [
    {
     "data": {
      "text/plain": [
       "2"
      ]
     },
     "execution_count": 80,
     "metadata": {},
     "output_type": "execute_result"
    }
   ],
   "source": [
    "arr2.ndim"
   ]
  },
  {
   "cell_type": "code",
   "execution_count": 81,
   "id": "92d7899e-cbb7-4d74-a169-7b0029171913",
   "metadata": {},
   "outputs": [
    {
     "data": {
      "text/plain": [
       "(3, 3)"
      ]
     },
     "execution_count": 81,
     "metadata": {},
     "output_type": "execute_result"
    }
   ],
   "source": [
    "arr2.shape"
   ]
  },
  {
   "cell_type": "code",
   "execution_count": 82,
   "id": "8534aab3-f514-441f-8818-6a3cf3c5e7bd",
   "metadata": {},
   "outputs": [
    {
     "data": {
      "text/plain": [
       "array([1, 2, 3])"
      ]
     },
     "execution_count": 82,
     "metadata": {},
     "output_type": "execute_result"
    }
   ],
   "source": [
    "arr2[0]"
   ]
  },
  {
   "cell_type": "raw",
   "id": "9422437d-567c-4916-a0fe-ca0b0806727d",
   "metadata": {},
   "source": []
  },
  {
   "cell_type": "code",
   "execution_count": 83,
   "id": "81a205b6-b725-48c9-8956-56e2664a44b2",
   "metadata": {},
   "outputs": [
    {
     "data": {
      "text/plain": [
       "array([7, 8, 9])"
      ]
     },
     "execution_count": 83,
     "metadata": {},
     "output_type": "execute_result"
    }
   ],
   "source": [
    "arr2[2]"
   ]
  },
  {
   "cell_type": "code",
   "execution_count": 84,
   "id": "f0db31ee-2543-4c78-b052-21acde53b469",
   "metadata": {},
   "outputs": [
    {
     "data": {
      "text/plain": [
       "array([[1, 2, 3],\n",
       "       [4, 5, 6],\n",
       "       [7, 8, 9]])"
      ]
     },
     "execution_count": 84,
     "metadata": {},
     "output_type": "execute_result"
    }
   ],
   "source": [
    "arr2[0:4]"
   ]
  },
  {
   "cell_type": "code",
   "execution_count": 85,
   "id": "b6aba5ca-5562-48d5-813a-cc83a487bb2e",
   "metadata": {},
   "outputs": [
    {
     "data": {
      "text/plain": [
       "array([7, 8, 9])"
      ]
     },
     "execution_count": 85,
     "metadata": {},
     "output_type": "execute_result"
    }
   ],
   "source": [
    "arr2[-1]"
   ]
  },
  {
   "cell_type": "code",
   "execution_count": 86,
   "id": "b2c818bd-0b51-4ab7-8d5c-eafd7400d9d1",
   "metadata": {},
   "outputs": [
    {
     "data": {
      "text/plain": [
       "array([[5, 6],\n",
       "       [8, 9]])"
      ]
     },
     "execution_count": 86,
     "metadata": {},
     "output_type": "execute_result"
    }
   ],
   "source": [
    "arr2[1:3,1:3]"
   ]
  },
  {
   "cell_type": "code",
   "execution_count": 87,
   "id": "4d495771-cc38-468f-80a7-bdb5d972bf7e",
   "metadata": {},
   "outputs": [
    {
     "data": {
      "text/plain": [
       "array([[1],\n",
       "       [4],\n",
       "       [7]])"
      ]
     },
     "execution_count": 87,
     "metadata": {},
     "output_type": "execute_result"
    }
   ],
   "source": [
    "arr2[0:3,0:1]"
   ]
  },
  {
   "cell_type": "code",
   "execution_count": 88,
   "id": "dbbdeee1-6528-4dd7-9267-9073c56252fe",
   "metadata": {},
   "outputs": [
    {
     "data": {
      "text/plain": [
       "array([[2, 3],\n",
       "       [5, 6]])"
      ]
     },
     "execution_count": 88,
     "metadata": {},
     "output_type": "execute_result"
    }
   ],
   "source": [
    "arr2[0:2,1:3]"
   ]
  },
  {
   "cell_type": "code",
   "execution_count": 89,
   "id": "63a7ab83-3e52-40b3-bd0c-878199477070",
   "metadata": {},
   "outputs": [
    {
     "data": {
      "text/plain": [
       "array([[4, 5],\n",
       "       [7, 8]])"
      ]
     },
     "execution_count": 89,
     "metadata": {},
     "output_type": "execute_result"
    }
   ],
   "source": [
    "arr2[1:3,0:2]"
   ]
  },
  {
   "cell_type": "code",
   "execution_count": 90,
   "id": "7e9d67b9-af9d-4617-b8d4-e3ec45d571c8",
   "metadata": {},
   "outputs": [
    {
     "data": {
      "text/plain": [
       "array([[4, 5, 6],\n",
       "       [7, 8, 9]])"
      ]
     },
     "execution_count": 90,
     "metadata": {},
     "output_type": "execute_result"
    }
   ],
   "source": [
    "arr2[-2:,-3:]"
   ]
  },
  {
   "cell_type": "code",
   "execution_count": 91,
   "id": "dd76ab46-b2ff-47e4-b90e-bb10d709a998",
   "metadata": {},
   "outputs": [
    {
     "data": {
      "text/plain": [
       "array([[2, 3],\n",
       "       [5, 6],\n",
       "       [8, 9]])"
      ]
     },
     "execution_count": 91,
     "metadata": {},
     "output_type": "execute_result"
    }
   ],
   "source": [
    "arr2[0: ,1:]"
   ]
  },
  {
   "cell_type": "raw",
   "id": "7e338540-a26b-4d47-8ddd-08b2408f6946",
   "metadata": {},
   "source": [
    "arr2[ : , -2 : ]"
   ]
  },
  {
   "cell_type": "code",
   "execution_count": 92,
   "id": "1e9a8b48-0ced-4e93-83dd-e621afd5073e",
   "metadata": {},
   "outputs": [
    {
     "data": {
      "text/plain": [
       "array([1., 1., 1., 1., 1., 1., 1., 1., 1., 1.])"
      ]
     },
     "execution_count": 92,
     "metadata": {},
     "output_type": "execute_result"
    }
   ],
   "source": [
    "np.ones(10)"
   ]
  },
  {
   "cell_type": "code",
   "execution_count": 93,
   "id": "813e8601-7503-4b0a-9508-fbe918a3385a",
   "metadata": {},
   "outputs": [
    {
     "data": {
      "text/plain": [
       "array([0., 0., 0., 0., 0., 0., 0., 0., 0., 0., 0., 0., 0., 0., 0.])"
      ]
     },
     "execution_count": 93,
     "metadata": {},
     "output_type": "execute_result"
    }
   ],
   "source": [
    "np.zeros(15)"
   ]
  },
  {
   "cell_type": "code",
   "execution_count": 94,
   "id": "01849f6f-8e3c-4d99-8d65-a34c46f748e3",
   "metadata": {},
   "outputs": [
    {
     "data": {
      "text/plain": [
       "array([ 1.        ,  6.44444444, 11.88888889, 17.33333333, 22.77777778,\n",
       "       28.22222222, 33.66666667, 39.11111111, 44.55555556, 50.        ])"
      ]
     },
     "execution_count": 94,
     "metadata": {},
     "output_type": "execute_result"
    }
   ],
   "source": [
    "np.linspace(1,50,10)"
   ]
  },
  {
   "cell_type": "code",
   "execution_count": null,
   "id": "175d4e1c-a978-4d38-87cf-93d1bce27d77",
   "metadata": {},
   "outputs": [],
   "source": []
  },
  {
   "cell_type": "code",
   "execution_count": 95,
   "id": "9bce7ca9-c32f-4a97-a8d3-12b7bd529d42",
   "metadata": {},
   "outputs": [],
   "source": [
    "# 3D Array\n"
   ]
  },
  {
   "cell_type": "code",
   "execution_count": 96,
   "id": "9936fa71-ddc0-42cf-94e0-8b1775b80322",
   "metadata": {},
   "outputs": [
    {
     "data": {
      "text/plain": [
       "[[1, 2, 3], [4, 5, 6], [7, 8, 9]]"
      ]
     },
     "execution_count": 96,
     "metadata": {},
     "output_type": "execute_result"
    }
   ],
   "source": [
    "ls"
   ]
  },
  {
   "cell_type": "code",
   "execution_count": 97,
   "id": "a2cefb97-5b61-45ca-a85d-2965565cad79",
   "metadata": {},
   "outputs": [],
   "source": [
    "ls = [[[1, 2, 3], [4, 5, 6], [7, 8, 9]],\n",
    "     [[1, 2, 3], [4, 5, 6], [7, 8, 9]],\n",
    "     [[1, 2, 3], [4, 5, 6], [7, 8, 9]],\n",
    "     [[1, 2, 3], [4, 5, 6], [7, 8, 9]]]"
   ]
  },
  {
   "cell_type": "code",
   "execution_count": 98,
   "id": "a0d701a2-9317-4b19-a67e-da3d41b4ca3f",
   "metadata": {},
   "outputs": [
    {
     "data": {
      "text/plain": [
       "[[[1, 2, 3], [4, 5, 6], [7, 8, 9]],\n",
       " [[1, 2, 3], [4, 5, 6], [7, 8, 9]],\n",
       " [[1, 2, 3], [4, 5, 6], [7, 8, 9]],\n",
       " [[1, 2, 3], [4, 5, 6], [7, 8, 9]]]"
      ]
     },
     "execution_count": 98,
     "metadata": {},
     "output_type": "execute_result"
    }
   ],
   "source": [
    "ls"
   ]
  },
  {
   "cell_type": "code",
   "execution_count": 99,
   "id": "225b6cc6-d093-438d-a579-baabedb82310",
   "metadata": {},
   "outputs": [
    {
     "ename": "AttributeError",
     "evalue": "'list' object has no attribute 'shape'",
     "output_type": "error",
     "traceback": [
      "\u001b[1;31m---------------------------------------------------------------------------\u001b[0m",
      "\u001b[1;31mAttributeError\u001b[0m                            Traceback (most recent call last)",
      "Cell \u001b[1;32mIn[99], line 1\u001b[0m\n\u001b[1;32m----> 1\u001b[0m \u001b[43mls\u001b[49m\u001b[38;5;241;43m.\u001b[39;49m\u001b[43mshape\u001b[49m\n",
      "\u001b[1;31mAttributeError\u001b[0m: 'list' object has no attribute 'shape'"
     ]
    }
   ],
   "source": [
    "ls.shape"
   ]
  },
  {
   "cell_type": "code",
   "execution_count": 104,
   "id": "e86ae233-bd7d-4282-bf40-8c479804efbc",
   "metadata": {},
   "outputs": [
    {
     "ename": "AttributeError",
     "evalue": "'list' object has no attribute 'ndim'",
     "output_type": "error",
     "traceback": [
      "\u001b[1;31m---------------------------------------------------------------------------\u001b[0m",
      "\u001b[1;31mAttributeError\u001b[0m                            Traceback (most recent call last)",
      "Cell \u001b[1;32mIn[104], line 1\u001b[0m\n\u001b[1;32m----> 1\u001b[0m \u001b[43mls\u001b[49m\u001b[38;5;241;43m.\u001b[39;49m\u001b[43mndim\u001b[49m\n",
      "\u001b[1;31mAttributeError\u001b[0m: 'list' object has no attribute 'ndim'"
     ]
    }
   ],
   "source": [
    "ls.ndim"
   ]
  },
  {
   "cell_type": "code",
   "execution_count": 108,
   "id": "f70a7529-cef3-46d5-bd5c-3053fa69ad63",
   "metadata": {},
   "outputs": [
    {
     "data": {
      "text/plain": [
       "array([[[1, 2, 3],\n",
       "        [4, 5, 6],\n",
       "        [7, 8, 9]],\n",
       "\n",
       "       [[1, 2, 3],\n",
       "        [4, 5, 6],\n",
       "        [7, 8, 9]],\n",
       "\n",
       "       [[1, 2, 3],\n",
       "        [4, 5, 6],\n",
       "        [7, 8, 9]],\n",
       "\n",
       "       [[1, 2, 3],\n",
       "        [4, 5, 6],\n",
       "        [7, 8, 9]]])"
      ]
     },
     "execution_count": 108,
     "metadata": {},
     "output_type": "execute_result"
    }
   ],
   "source": [
    "arr3 = np.array(ls)\n",
    "arr3"
   ]
  },
  {
   "cell_type": "code",
   "execution_count": 110,
   "id": "25035bb6-4874-4139-ba8a-30b3ef049a1a",
   "metadata": {},
   "outputs": [
    {
     "data": {
      "text/plain": [
       "3"
      ]
     },
     "execution_count": 110,
     "metadata": {},
     "output_type": "execute_result"
    }
   ],
   "source": [
    "arr3.ndim"
   ]
  },
  {
   "cell_type": "code",
   "execution_count": 112,
   "id": "06c2ebf1-ebf8-4073-8b9b-731763481da7",
   "metadata": {},
   "outputs": [
    {
     "data": {
      "text/plain": [
       "(4, 3, 3)"
      ]
     },
     "execution_count": 112,
     "metadata": {},
     "output_type": "execute_result"
    }
   ],
   "source": [
    "arr3.shape  # 4 tables, 3 row, 3 columns "
   ]
  },
  {
   "cell_type": "code",
   "execution_count": 114,
   "id": "d12d41d8-4681-4d4a-b6fb-d6d91632f2c7",
   "metadata": {},
   "outputs": [
    {
     "data": {
      "text/plain": [
       "array([[1, 2, 3],\n",
       "       [4, 5, 6],\n",
       "       [7, 8, 9]])"
      ]
     },
     "execution_count": 114,
     "metadata": {},
     "output_type": "execute_result"
    }
   ],
   "source": [
    "arr3[0]"
   ]
  },
  {
   "cell_type": "code",
   "execution_count": 116,
   "id": "f15ab43f-7df6-49dc-b18a-d6f33670e989",
   "metadata": {},
   "outputs": [
    {
     "data": {
      "text/plain": [
       "array([[[1, 2, 3],\n",
       "        [4, 5, 6],\n",
       "        [7, 8, 9]],\n",
       "\n",
       "       [[1, 2, 3],\n",
       "        [4, 5, 6],\n",
       "        [7, 8, 9]]])"
      ]
     },
     "execution_count": 116,
     "metadata": {},
     "output_type": "execute_result"
    }
   ],
   "source": [
    "arr3[0:2]"
   ]
  },
  {
   "cell_type": "code",
   "execution_count": 118,
   "id": "08a2a6a9-0faa-4126-8df0-f1fc41333d8c",
   "metadata": {},
   "outputs": [
    {
     "data": {
      "text/plain": [
       "array([[[1, 2, 3],\n",
       "        [4, 5, 6],\n",
       "        [7, 8, 9]],\n",
       "\n",
       "       [[1, 2, 3],\n",
       "        [4, 5, 6],\n",
       "        [7, 8, 9]],\n",
       "\n",
       "       [[1, 2, 3],\n",
       "        [4, 5, 6],\n",
       "        [7, 8, 9]]])"
      ]
     },
     "execution_count": 118,
     "metadata": {},
     "output_type": "execute_result"
    }
   ],
   "source": [
    "arr3[0:3]"
   ]
  },
  {
   "cell_type": "code",
   "execution_count": 120,
   "id": "f055b8fe-af97-4ba8-81b1-7e52d0320dd2",
   "metadata": {},
   "outputs": [
    {
     "data": {
      "text/plain": [
       "array([[1, 2, 3],\n",
       "       [4, 5, 6],\n",
       "       [7, 8, 9]])"
      ]
     },
     "execution_count": 120,
     "metadata": {},
     "output_type": "execute_result"
    }
   ],
   "source": [
    "arr3[-3]"
   ]
  },
  {
   "cell_type": "code",
   "execution_count": 126,
   "id": "4a86a60f-4c97-42dc-bc3a-a88b661e69ea",
   "metadata": {},
   "outputs": [
    {
     "data": {
      "text/plain": [
       "array([[[1, 2, 3]],\n",
       "\n",
       "       [[1, 2, 3]],\n",
       "\n",
       "       [[1, 2, 3]],\n",
       "\n",
       "       [[1, 2, 3]]])"
      ]
     },
     "execution_count": 126,
     "metadata": {},
     "output_type": "execute_result"
    }
   ],
   "source": [
    "arr3[0: ,0:1, :]"
   ]
  },
  {
   "cell_type": "code",
   "execution_count": 130,
   "id": "21c9f7a6-4dec-4d6c-a0f2-135a6888b964",
   "metadata": {},
   "outputs": [
    {
     "data": {
      "text/plain": [
       "array([[1, 2, 3],\n",
       "       [1, 2, 3],\n",
       "       [1, 2, 3],\n",
       "       [1, 2, 3]])"
      ]
     },
     "execution_count": 130,
     "metadata": {},
     "output_type": "execute_result"
    }
   ],
   "source": [
    "arr3[: ,0,:]"
   ]
  },
  {
   "cell_type": "code",
   "execution_count": 132,
   "id": "26692b73-1cd6-4de0-8e66-ce5a9b6643ab",
   "metadata": {},
   "outputs": [
    {
     "data": {
      "text/plain": [
       "array([[[1, 2, 3]],\n",
       "\n",
       "       [[1, 2, 3]],\n",
       "\n",
       "       [[1, 2, 3]],\n",
       "\n",
       "       [[1, 2, 3]]])"
      ]
     },
     "execution_count": 132,
     "metadata": {},
     "output_type": "execute_result"
    }
   ],
   "source": [
    "arr3[-4: ,-3:-2,-3:]"
   ]
  },
  {
   "cell_type": "code",
   "execution_count": 134,
   "id": "d01cb95e-03bd-4524-96db-7df5d07d7d77",
   "metadata": {},
   "outputs": [
    {
     "data": {
      "text/plain": [
       "array([[[5, 6],\n",
       "        [8, 9]]])"
      ]
     },
     "execution_count": 134,
     "metadata": {},
     "output_type": "execute_result"
    }
   ],
   "source": [
    "arr3[2:3,1: ,1:]"
   ]
  },
  {
   "cell_type": "code",
   "execution_count": 136,
   "id": "8a587aab-ad2f-4f41-b990-cbabc04a9097",
   "metadata": {},
   "outputs": [
    {
     "data": {
      "text/plain": [
       "array([[[5, 6],\n",
       "        [8, 9]]])"
      ]
     },
     "execution_count": 136,
     "metadata": {},
     "output_type": "execute_result"
    }
   ],
   "source": [
    "arr3[0:1,1: ,1:]"
   ]
  },
  {
   "cell_type": "code",
   "execution_count": 138,
   "id": "56a7557d-b9bf-4f79-8256-6508d1a3085e",
   "metadata": {},
   "outputs": [
    {
     "data": {
      "text/plain": [
       "array([[[5, 6],\n",
       "        [8, 9]],\n",
       "\n",
       "       [[5, 6],\n",
       "        [8, 9]],\n",
       "\n",
       "       [[5, 6],\n",
       "        [8, 9]],\n",
       "\n",
       "       [[5, 6],\n",
       "        [8, 9]]])"
      ]
     },
     "execution_count": 138,
     "metadata": {},
     "output_type": "execute_result"
    }
   ],
   "source": [
    "arr3[: , 1: ,1:]"
   ]
  },
  {
   "cell_type": "code",
   "execution_count": 142,
   "id": "02dadcbc-8d8c-47a9-b397-d5e8199534eb",
   "metadata": {},
   "outputs": [
    {
     "data": {
      "text/plain": [
       "array([[[5, 6],\n",
       "        [8, 9]],\n",
       "\n",
       "       [[5, 6],\n",
       "        [8, 9]],\n",
       "\n",
       "       [[5, 6],\n",
       "        [8, 9]],\n",
       "\n",
       "       [[5, 6],\n",
       "        [8, 9]]])"
      ]
     },
     "execution_count": 142,
     "metadata": {},
     "output_type": "execute_result"
    }
   ],
   "source": [
    "arr3[:,-2:,-2:]"
   ]
  },
  {
   "cell_type": "code",
   "execution_count": 154,
   "id": "d625583b-3f9f-4012-906a-64f207294ed5",
   "metadata": {},
   "outputs": [
    {
     "data": {
      "text/plain": [
       "array([[[9, 8, 7]],\n",
       "\n",
       "       [[9, 8, 7]],\n",
       "\n",
       "       [[9, 8, 7]],\n",
       "\n",
       "       [[9, 8, 7]]])"
      ]
     },
     "execution_count": 154,
     "metadata": {},
     "output_type": "execute_result"
    }
   ],
   "source": [
    "arr3[:,2:,-1::-1]"
   ]
  },
  {
   "cell_type": "code",
   "execution_count": 158,
   "id": "d09260a1-cd48-4992-bb5b-b4aa1fc41ab7",
   "metadata": {},
   "outputs": [
    {
     "data": {
      "text/plain": [
       "array([1, 2, 3, 4, 5, 6, 7, 8, 9, 1, 2, 3, 4, 5, 6, 7, 8, 9, 1, 2, 3, 4,\n",
       "       5, 6, 7, 8, 9, 1, 2, 3, 4, 5, 6, 7, 8, 9])"
      ]
     },
     "execution_count": 158,
     "metadata": {},
     "output_type": "execute_result"
    }
   ],
   "source": [
    "arr3.ravel()"
   ]
  },
  {
   "cell_type": "code",
   "execution_count": 162,
   "id": "39e24734-1579-41f0-bafd-0f29c9441cea",
   "metadata": {},
   "outputs": [
    {
     "data": {
      "text/plain": [
       "array([1, 2, 3, 4, 5, 6, 7, 8, 9, 1, 2, 3, 4, 5, 6, 7, 8, 9, 1, 2, 3, 4,\n",
       "       5, 6, 7, 8, 9, 1, 2, 3, 4, 5, 6, 7, 8, 9])"
      ]
     },
     "execution_count": 162,
     "metadata": {},
     "output_type": "execute_result"
    }
   ],
   "source": [
    "arr4 = arr3.ravel()\n",
    "arr4"
   ]
  },
  {
   "cell_type": "code",
   "execution_count": 166,
   "id": "326633ae-e8b4-49d6-9830-dc1b1486542e",
   "metadata": {},
   "outputs": [
    {
     "data": {
      "text/plain": [
       "array([1, 2, 3, 4, 5, 6, 7, 8, 9, 1, 2, 3, 4, 5, 6, 7, 8, 9, 1, 2, 3, 4,\n",
       "       5, 6, 7, 8, 9, 1, 2, 3, 4, 5, 6, 7, 8, 9])"
      ]
     },
     "execution_count": 166,
     "metadata": {},
     "output_type": "execute_result"
    }
   ],
   "source": [
    "arr3.flatten()"
   ]
  },
  {
   "cell_type": "code",
   "execution_count": 168,
   "id": "4f27204a-a76f-442c-a77b-7519ddfa4192",
   "metadata": {},
   "outputs": [
    {
     "data": {
      "text/plain": [
       "(4, 3, 3)"
      ]
     },
     "execution_count": 168,
     "metadata": {},
     "output_type": "execute_result"
    }
   ],
   "source": [
    "arr3.shape"
   ]
  },
  {
   "cell_type": "code",
   "execution_count": 170,
   "id": "37434cd0-ab88-4fcb-be31-12d6b507e057",
   "metadata": {},
   "outputs": [
    {
     "data": {
      "text/plain": [
       "array([1, 2, 3, 4, 5, 6, 7, 8, 9, 1, 2, 3, 4, 5, 6, 7, 8, 9, 1, 2, 3, 4,\n",
       "       5, 6, 7, 8, 9, 1, 2, 3, 4, 5, 6, 7, 8, 9])"
      ]
     },
     "execution_count": 170,
     "metadata": {},
     "output_type": "execute_result"
    }
   ],
   "source": [
    "arr3.reshape(36,)"
   ]
  },
  {
   "cell_type": "code",
   "execution_count": 174,
   "id": "de59d9b3-81f2-404b-903d-2ee1bc5b6217",
   "metadata": {},
   "outputs": [
    {
     "data": {
      "text/plain": [
       "np.int64(168)"
      ]
     },
     "execution_count": 174,
     "metadata": {},
     "output_type": "execute_result"
    }
   ],
   "source": [
    "arr.argmax()"
   ]
  },
  {
   "cell_type": "code",
   "execution_count": null,
   "id": "0570487f-17df-4a94-9d28-baf07719e29b",
   "metadata": {},
   "outputs": [],
   "source": []
  }
 ],
 "metadata": {
  "kernelspec": {
   "display_name": "Python 3 (ipykernel)",
   "language": "python",
   "name": "python3"
  },
  "language_info": {
   "codemirror_mode": {
    "name": "ipython",
    "version": 3
   },
   "file_extension": ".py",
   "mimetype": "text/x-python",
   "name": "python",
   "nbconvert_exporter": "python",
   "pygments_lexer": "ipython3",
   "version": "3.12.4"
  }
 },
 "nbformat": 4,
 "nbformat_minor": 5
}
