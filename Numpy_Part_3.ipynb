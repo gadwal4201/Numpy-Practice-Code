{
 "cells": [
  {
   "cell_type": "code",
   "execution_count": 4,
   "id": "a5d70db7-afc0-41ac-8c77-9d1936f9bcbe",
   "metadata": {},
   "outputs": [],
   "source": [
    "import numpy as np"
   ]
  },
  {
   "cell_type": "code",
   "execution_count": 6,
   "id": "47be5287-e9d4-441f-acb4-87fc31771bb0",
   "metadata": {},
   "outputs": [
    {
     "data": {
      "text/plain": [
       "1"
      ]
     },
     "execution_count": 6,
     "metadata": {},
     "output_type": "execute_result"
    }
   ],
   "source": [
    "arr = np.array([25, 10, 20, 30, 40, 50, 60])\n",
    "arr.dtype  # dtype('int64')\n",
    "arr.size   # 7\n",
    "arr.shape  # (7,)\n",
    "arr.ndim   # 1\n"
   ]
  },
  {
   "cell_type": "code",
   "execution_count": 8,
   "id": "79f9a15f-7991-4014-9d44-b35987d5d3a1",
   "metadata": {},
   "outputs": [
    {
     "data": {
      "text/plain": [
       "dtype('<U21')"
      ]
     },
     "execution_count": 8,
     "metadata": {},
     "output_type": "execute_result"
    }
   ],
   "source": [
    "arr = np.array([25, 10, 20, 30, 40, 50, 60, 25.2])\n",
    "arr.dtype  # dtype('float64')\n",
    "arr = np.array([25, 10, 20, 30, 40, 50, 60, 'hello'])\n",
    "arr.dtype  # dtype('<U21')\n"
   ]
  },
  {
   "cell_type": "code",
   "execution_count": 10,
   "id": "9c269a72-10db-483f-ad01-f7667f49f5f1",
   "metadata": {},
   "outputs": [
    {
     "data": {
      "text/plain": [
       "array([60, 50])"
      ]
     },
     "execution_count": 10,
     "metadata": {},
     "output_type": "execute_result"
    }
   ],
   "source": [
    "arr = np.array([25, 10, 20, 30, 40, 50, 60])\n",
    "arr[4:]       # array([40, 50, 60])\n",
    "arr[-3:-1]    # array([40, 50])\n",
    "arr[-1:-3:-1] # array([60, 50])\n"
   ]
  },
  {
   "cell_type": "code",
   "execution_count": 12,
   "id": "d8e21026-3d6b-480e-bbe3-3beb41ad3476",
   "metadata": {},
   "outputs": [
    {
     "data": {
      "text/plain": [
       "array([ 5.,  2.,  4.,  6.,  8., 10., 12.])"
      ]
     },
     "execution_count": 12,
     "metadata": {},
     "output_type": "execute_result"
    }
   ],
   "source": [
    "arr + 5      # array([30, 15, 25, 35, 45, 55, 65])\n",
    "arr / 5      # array([ 5., 2., 4., 6., 8., 10., 12.])\n"
   ]
  },
  {
   "cell_type": "code",
   "execution_count": 14,
   "id": "64397dff-4870-46fb-9baa-69699f5e2885",
   "metadata": {},
   "outputs": [
    {
     "data": {
      "text/plain": [
       "np.float64(30.0)"
      ]
     },
     "execution_count": 14,
     "metadata": {},
     "output_type": "execute_result"
    }
   ],
   "source": [
    "np.min(arr)       # 10\n",
    "np.max(arr)       # 60\n",
    "np.sum(arr)       # 235\n",
    "np.mean(arr)      # 33.57\n",
    "np.median(arr)    # 30.0\n"
   ]
  },
  {
   "cell_type": "code",
   "execution_count": 16,
   "id": "0938a075-39eb-4e1b-8a95-ed4e9d1e4403",
   "metadata": {},
   "outputs": [
    {
     "data": {
      "text/plain": [
       "115"
      ]
     },
     "execution_count": 16,
     "metadata": {},
     "output_type": "execute_result"
    }
   ],
   "source": [
    "arr = np.random.randint(1, 450, 500)\n",
    "len(arr[arr < 100])  # 110 elements less than 100\n"
   ]
  },
  {
   "cell_type": "code",
   "execution_count": 18,
   "id": "9a4959ed-91ad-491e-ac2b-4690b80696c9",
   "metadata": {},
   "outputs": [
    {
     "data": {
      "text/plain": [
       "array([[5, 6],\n",
       "       [8, 9]])"
      ]
     },
     "execution_count": 18,
     "metadata": {},
     "output_type": "execute_result"
    }
   ],
   "source": [
    "ls = [[1, 2, 3], [4, 5, 6], [7, 8, 9]]\n",
    "arr2 = np.array(ls)\n",
    "arr2.ndim   # 2\n",
    "arr2.shape  # (3, 3)\n",
    "arr2[1:3, 1:3]  # array([[5, 6], [8, 9]])\n"
   ]
  },
  {
   "cell_type": "code",
   "execution_count": null,
   "id": "6e9f366f-1c1a-43d6-b1c9-659a8739e574",
   "metadata": {},
   "outputs": [],
   "source": []
  },
  {
   "cell_type": "code",
   "execution_count": null,
   "id": "4d1d1efd-c30d-4cc2-b8eb-823db759640b",
   "metadata": {},
   "outputs": [],
   "source": []
  },
  {
   "cell_type": "code",
   "execution_count": null,
   "id": "572bcd7a-9fcb-4c51-9600-2a01cf88cfa9",
   "metadata": {},
   "outputs": [],
   "source": []
  },
  {
   "cell_type": "code",
   "execution_count": null,
   "id": "74bb83d1-da5f-450f-b91a-608f199bc7e2",
   "metadata": {},
   "outputs": [],
   "source": []
  },
  {
   "cell_type": "code",
   "execution_count": null,
   "id": "d5329b66-6589-40ad-860e-dbb1addefa0a",
   "metadata": {},
   "outputs": [],
   "source": []
  },
  {
   "cell_type": "code",
   "execution_count": null,
   "id": "18fd909d-14e8-4608-aabb-37e35c598801",
   "metadata": {},
   "outputs": [],
   "source": []
  },
  {
   "cell_type": "code",
   "execution_count": null,
   "id": "c780e709-49ac-4172-a6a3-3f4eae070be6",
   "metadata": {},
   "outputs": [],
   "source": []
  }
 ],
 "metadata": {
  "kernelspec": {
   "display_name": "Python 3 (ipykernel)",
   "language": "python",
   "name": "python3"
  },
  "language_info": {
   "codemirror_mode": {
    "name": "ipython",
    "version": 3
   },
   "file_extension": ".py",
   "mimetype": "text/x-python",
   "name": "python",
   "nbconvert_exporter": "python",
   "pygments_lexer": "ipython3",
   "version": "3.12.4"
  }
 },
 "nbformat": 4,
 "nbformat_minor": 5
}
